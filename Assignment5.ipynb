{
 "cells": [
  {
   "cell_type": "markdown",
   "metadata": {},
   "source": [
    "1).Write a function to compute 5/0 and use try/except to catch the exceptions."
   ]
  },
  {
   "cell_type": "code",
   "execution_count": 7,
   "metadata": {},
   "outputs": [
    {
     "name": "stdout",
     "output_type": "stream",
     "text": [
      "You Enter Wrong/Zero Value\n"
     ]
    }
   ],
   "source": [
    "#decalre the divide function\n",
    "def divide(x, y): \n",
    "    #then we use the try catch method to check the exception\n",
    "    try: \n",
    "        #if the value is divide perfectly then it will run the code or print the value \n",
    "        result = x // y \n",
    "        print(\"Your Answer is:\", result) \n",
    "    except: \n",
    "        # if the value is divide by 0 then it will comes in except or catch method \n",
    "        print(\"You Enter Wrong/Zero Value\") \n",
    "  \n",
    "#call the divide function\n",
    "divide(5, 0)"
   ]
  },
  {
   "cell_type": "markdown",
   "metadata": {},
   "source": [
    "2).Implement a Python program to generate all sentences where subject is in [\"Americans\",\n",
    "\"Indians\"] and verb is in [\"Play\", \"watch\"] and the object is in [\"Baseball\",\"cricket\"].\n",
    "Hint: Subject,Verb and Object should be declared in the program as shown below.\n",
    "subjects=[\"Americans \",\"Indians\"]\n",
    "verbs=[\"play\",\"watch\"]\n",
    "objects=[\"Baseball\",\"Cricket\"]"
   ]
  },
  {
   "cell_type": "code",
   "execution_count": 22,
   "metadata": {},
   "outputs": [
    {
     "name": "stdout",
     "output_type": "stream",
     "text": [
      "Americans play Baseball \n",
      "Americans play Cricket \n",
      "Americans watch Baseball \n",
      "Americans watch Cricket \n",
      "Indians play Baseball \n",
      "Indians play Cricket \n",
      "Indians watch Baseball \n",
      "Indians watch Cricket \n"
     ]
    }
   ],
   "source": [
    "#decalre the function\n",
    "def generateallsentences():\n",
    "    #decalre all list which is mentioned in program\n",
    "    subjects=[\"Americans \",\"Indians \"] \n",
    "    verbs=[\"play \",\"watch \"] \n",
    "    objects=[\"Baseball \",\"Cricket \"]\n",
    "    #firstly we will put the loop in subject \n",
    "for i in subjects:\n",
    "    #it will take the first index and then go into second loop\n",
    "    for j in verbs:\n",
    "        #then it will have the 1 index of first loop and second 1 index of second loop\n",
    "        for k in objects:\n",
    "            #it will have 1 index of all three loops \n",
    "            print(i+j+k)\n",
    "\n",
    "generateallsentences()"
   ]
  }
 ],
 "metadata": {
  "kernelspec": {
   "display_name": "Python 3",
   "language": "python",
   "name": "python3"
  },
  "language_info": {
   "codemirror_mode": {
    "name": "ipython",
    "version": 3
   },
   "file_extension": ".py",
   "mimetype": "text/x-python",
   "name": "python",
   "nbconvert_exporter": "python",
   "pygments_lexer": "ipython3",
   "version": "3.7.3"
  }
 },
 "nbformat": 4,
 "nbformat_minor": 2
}
